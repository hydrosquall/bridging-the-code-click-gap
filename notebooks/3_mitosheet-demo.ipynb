{
 "cells": [
  {
   "cell_type": "code",
   "execution_count": 9,
   "id": "d2514cac-b79c-48fe-83b0-6744a77456f3",
   "metadata": {},
   "outputs": [],
   "source": [
    "# NOTE! On the free tier, Mito collects data about what actions you click, but not the raw data\n",
    "# I have no affiliation with Mito, you can learn more about them from the FAQ here: \n",
    "# https://www.trymito.io/plans#private-telemetry-faq"
   ]
  },
  {
   "cell_type": "code",
   "execution_count": 10,
   "id": "9f67c7ac-5055-4c6a-a9f4-0fda4ccdc46f",
   "metadata": {},
   "outputs": [],
   "source": [
    "import mitosheet\n",
    "import pandas as pd"
   ]
  },
  {
   "cell_type": "code",
   "execution_count": 11,
   "id": "53f1b097-3120-4a24-b006-11e4b46e9087",
   "metadata": {},
   "outputs": [],
   "source": [
    "# Load a dataset\n",
    "plants_url = \"https://global-power-plants.datasettes.com/global-power-plants/global-power-plants.csv?_sort=rowid&country_long__exact=United+States+of+America&primary_fuel=Wind&_size=max\"\n",
    "plants_df = pd.read_csv(plants_url)"
   ]
  },
  {
   "cell_type": "code",
   "execution_count": 12,
   "id": "b991c9ce-5531-4a32-b133-e8c2a176e9b0",
   "metadata": {},
   "outputs": [
    {
     "data": {
      "text/plain": [
       "(1000, 37)"
      ]
     },
     "execution_count": 12,
     "metadata": {},
     "output_type": "execute_result"
    }
   ],
   "source": [
    "# Gut check the row vs column count of this tabular dataset!\n",
    "plants_df.shape"
   ]
  },
  {
   "cell_type": "code",
   "execution_count": 13,
   "id": "f3801bb9-8c58-4c8c-b7ce-28b42d80f54f",
   "metadata": {},
   "outputs": [],
   "source": [
    "# Optional: add any columns or traditional preprocessing before or after sending it into Mito"
   ]
  },
  {
   "cell_type": "code",
   "execution_count": 15,
   "id": "b79364c4-202b-4e0d-9408-1d27f1990f88",
   "metadata": {},
   "outputs": [
    {
     "data": {
      "application/vnd.jupyter.widget-view+json": {
       "model_id": "f00472c6bccd4d2f833d3b89b5f347f1",
       "version_major": 2,
       "version_minor": 0
      },
      "text/plain": [
       "MitoWidget(analysis_data_json='{\"analysisName\": \"id-pxkloowvzv\", \"analysisToReplay\": null, \"code\": [], \"stepSu…"
      ]
     },
     "metadata": {},
     "output_type": "display_data"
    }
   ],
   "source": [
    "# Clean start\n",
    "mitosheet.sheet(plants_df, analysis_to_replay=\"id-pxkloowvzv\")"
   ]
  },
  {
   "cell_type": "code",
   "execution_count": null,
   "id": "2137859a-5d17-409a-943d-7bb17dcc23a8",
   "metadata": {},
   "outputs": [],
   "source": []
  },
  {
   "cell_type": "code",
   "execution_count": 16,
   "id": "375028d8-7dd3-42a2-9647-757d78c4e0a9",
   "metadata": {},
   "outputs": [
    {
     "data": {
      "application/vnd.jupyter.widget-view+json": {
       "model_id": "251b8478af7c455887f8fd8c716a53c5",
       "version_major": 2,
       "version_minor": 0
      },
      "text/plain": [
       "MitoWidget(analysis_data_json='{\"analysisName\": \"id-ejihgkeupu\", \"analysisToReplay\": {\"analysisName\": \"id-laxx…"
      ]
     },
     "metadata": {},
     "output_type": "display_data"
    }
   ],
   "source": [
    "# Legacy GUI\n",
    "mitosheet.sheet(plants_df, analysis_to_replay=\"id-laxxfqmzka\")"
   ]
  },
  {
   "cell_type": "code",
   "execution_count": null,
   "id": "5ee894a7-ebcc-494f-82d8-31c16286dec5",
   "metadata": {},
   "outputs": [],
   "source": [
    "from mitosheet import *; register_analysis(\"id-laxxfqmzka\");\n",
    "    \n",
    "# Changed year_of_capacity_data to dtype int\n",
    "plants_df['year_of_capacity_data'] = plants_df['year_of_capacity_data'].fillna(0).astype('int')\n",
    "\n",
    "# Filtered year_of_capacity_data\n",
    "plants_df = plants_df[plants_df['year_of_capacity_data'] != 0]\n",
    "\n",
    "# Sorted owner in ascending order\n",
    "plants_df = plants_df.sort_values(by='owner', ascending=True, na_position='first')\n",
    "\n",
    "# Pivoted into plants_df\n",
    "tmp_df = plants_df[['rowid', 'owner']]\n",
    "pivot_table = tmp_df.pivot_table(\n",
    "    index=['owner'],\n",
    "    values=['rowid'],\n",
    "    aggfunc={'rowid': ['count']}\n",
    ")\n",
    "pivot_table.set_axis([flatten_column_header(col) for col in pivot_table.keys()], axis=1, inplace=True)\n",
    "plants_df_pivot = pivot_table.reset_index()\n",
    "\n",
    "# Sorted rowid count in descending order\n",
    "plants_df_pivot = plants_df_pivot.sort_values(by='rowid count', ascending=False, na_position='last')\n",
    "\n",
    "# Filtered rowid count\n",
    "plants_df_pivot = plants_df_pivot[plants_df_pivot['rowid count'] > 9]\n"
   ]
  },
  {
   "cell_type": "code",
   "execution_count": 18,
   "id": "c7211d6f-0244-4c06-896a-bcba584a8109",
   "metadata": {},
   "outputs": [],
   "source": [
    "# Then, run the generated code\n",
    "from mitosheet import *; register_analysis(\"id-laxxfqmzka\");\n",
    "    \n",
    "# Changed year_of_capacity_data to dtype int\n",
    "plants_df['year_of_capacity_data'] = plants_df['year_of_capacity_data'].fillna(0).astype('int')\n",
    "\n",
    "# Filtered year_of_capacity_data\n",
    "plants_df = plants_df[plants_df['year_of_capacity_data'] != 0]\n",
    "\n",
    "# Sorted owner in ascending order\n",
    "plants_df = plants_df.sort_values(by='owner', ascending=True, na_position='first')\n",
    "\n",
    "# Pivoted into plants_df\n",
    "tmp_df = plants_df[['rowid', 'owner']]\n",
    "pivot_table = tmp_df.pivot_table(\n",
    "    index=['owner'],\n",
    "    values=['rowid'],\n",
    "    aggfunc={'rowid': ['count']}\n",
    ")\n",
    "pivot_table.set_axis([flatten_column_header(col) for col in pivot_table.keys()], axis=1, inplace=True)\n",
    "plants_df_pivot = pivot_table.reset_index()\n",
    "\n",
    "# Sorted rowid count in descending order\n",
    "plants_df_pivot = plants_df_pivot.sort_values(by='rowid count', ascending=False, na_position='last')\n",
    "\n",
    "# Filtered rowid count\n",
    "plants_df_pivot = plants_df_pivot[plants_df_pivot['rowid count'] > 9]\n"
   ]
  },
  {
   "cell_type": "code",
   "execution_count": null,
   "id": "1f06670c-daae-49d6-a1ec-2295a147451e",
   "metadata": {},
   "outputs": [],
   "source": [
    "# Checklist\n",
    "# 1. Check summary stats for \"years of capacity data\"\n",
    "# 2. Filter out the empty values, cast to int\n",
    "# 3. Summary stats for a float column\n",
    "# 4. Summary stats for a string column (owner)\n",
    "# 5. Do a quick groupby owner descending count"
   ]
  },
  {
   "cell_type": "code",
   "execution_count": 34,
   "id": "5cf117eb-863a-45d7-8b12-effa8507bc62",
   "metadata": {},
   "outputs": [],
   "source": [
    "# You can graph this on the outside if you want!\n",
    "import altair as alt"
   ]
  },
  {
   "cell_type": "code",
   "execution_count": 35,
   "id": "6e53826f-ca99-4db4-b3ac-45f87a8183d8",
   "metadata": {},
   "outputs": [
    {
     "data": {
      "text/plain": [
       "Index(['owner', 'rowid count'], dtype='object')"
      ]
     },
     "execution_count": 35,
     "metadata": {},
     "output_type": "execute_result"
    }
   ],
   "source": [
    "plants_df_pivot.columns"
   ]
  },
  {
   "cell_type": "code",
   "execution_count": 33,
   "id": "1cbe32aa-546f-421c-8e90-d6102311ad6d",
   "metadata": {},
   "outputs": [
    {
     "data": {
      "text/html": [
       "\n",
       "<div id=\"altair-viz-9cae9bac9a3d4b08b79b6cbeeffa8e70\"></div>\n",
       "<script type=\"text/javascript\">\n",
       "  var VEGA_DEBUG = (typeof VEGA_DEBUG == \"undefined\") ? {} : VEGA_DEBUG;\n",
       "  (function(spec, embedOpt){\n",
       "    let outputDiv = document.currentScript.previousElementSibling;\n",
       "    if (outputDiv.id !== \"altair-viz-9cae9bac9a3d4b08b79b6cbeeffa8e70\") {\n",
       "      outputDiv = document.getElementById(\"altair-viz-9cae9bac9a3d4b08b79b6cbeeffa8e70\");\n",
       "    }\n",
       "    const paths = {\n",
       "      \"vega\": \"https://cdn.jsdelivr.net/npm//vega@5?noext\",\n",
       "      \"vega-lib\": \"https://cdn.jsdelivr.net/npm//vega-lib?noext\",\n",
       "      \"vega-lite\": \"https://cdn.jsdelivr.net/npm//vega-lite@4.17.0?noext\",\n",
       "      \"vega-embed\": \"https://cdn.jsdelivr.net/npm//vega-embed@6?noext\",\n",
       "    };\n",
       "\n",
       "    function maybeLoadScript(lib, version) {\n",
       "      var key = `${lib.replace(\"-\", \"\")}_version`;\n",
       "      return (VEGA_DEBUG[key] == version) ?\n",
       "        Promise.resolve(paths[lib]) :\n",
       "        new Promise(function(resolve, reject) {\n",
       "          var s = document.createElement('script');\n",
       "          document.getElementsByTagName(\"head\")[0].appendChild(s);\n",
       "          s.async = true;\n",
       "          s.onload = () => {\n",
       "            VEGA_DEBUG[key] = version;\n",
       "            return resolve(paths[lib]);\n",
       "          };\n",
       "          s.onerror = () => reject(`Error loading script: ${paths[lib]}`);\n",
       "          s.src = paths[lib];\n",
       "        });\n",
       "    }\n",
       "\n",
       "    function showError(err) {\n",
       "      outputDiv.innerHTML = `<div class=\"error\" style=\"color:red;\">${err}</div>`;\n",
       "      throw err;\n",
       "    }\n",
       "\n",
       "    function displayChart(vegaEmbed) {\n",
       "      vegaEmbed(outputDiv, spec, embedOpt)\n",
       "        .catch(err => showError(`Javascript Error: ${err.message}<br>This usually means there's a typo in your chart specification. See the javascript console for the full traceback.`));\n",
       "    }\n",
       "\n",
       "    if(typeof define === \"function\" && define.amd) {\n",
       "      requirejs.config({paths});\n",
       "      require([\"vega-embed\"], displayChart, err => showError(`Error loading script: ${err.message}`));\n",
       "    } else {\n",
       "      maybeLoadScript(\"vega\", \"5\")\n",
       "        .then(() => maybeLoadScript(\"vega-lite\", \"4.17.0\"))\n",
       "        .then(() => maybeLoadScript(\"vega-embed\", \"6\"))\n",
       "        .catch(showError)\n",
       "        .then(() => displayChart(vegaEmbed));\n",
       "    }\n",
       "  })({\"config\": {\"view\": {\"continuousWidth\": 400, \"continuousHeight\": 300}}, \"data\": {\"name\": \"data-8e47162ee9dc80c00dad85f9ed19e924\"}, \"mark\": \"rect\", \"encoding\": {\"x\": {\"field\": \"rowid count\", \"type\": \"quantitative\"}, \"y\": {\"field\": \"owner\", \"sort\": \"-x\", \"type\": \"nominal\"}}, \"$schema\": \"https://vega.github.io/schema/vega-lite/v4.17.0.json\", \"datasets\": {\"data-8e47162ee9dc80c00dad85f9ed19e924\": [{\"owner\": \"Avangrid Renewables LLC\", \"rowid count\": 51}, {\"owner\": \"RWE Renewables Americas LLC\", \"rowid count\": 32}, {\"owner\": \"EDF Renewable Asset Holdings  Inc.\", \"rowid count\": 30}, {\"owner\": \"Terra-Gen Operating Co-Wind\", \"rowid count\": 25}, {\"owner\": \"MidAmerican Energy Co\", \"rowid count\": 23}, {\"owner\": \"Invenergy Services LLC\", \"rowid count\": 21}, {\"owner\": \"NRG Energy Gas & Wind Holdings Inc\", \"rowid count\": 20}, {\"owner\": \"Leeward Asset Management  LLC\", \"rowid count\": 15}, {\"owner\": \"First Wind O&M  LLC\", \"rowid count\": 14}, {\"owner\": \"Pattern Operators LP\", \"rowid count\": 14}, {\"owner\": \"GlidePath Power Operations LLC\", \"rowid count\": 13}, {\"owner\": \"CHI Operations Inc\", \"rowid count\": 12}, {\"owner\": \"PacifiCorp\", \"rowid count\": 10}, {\"owner\": \"Allete Clean Energy\", \"rowid count\": 10}]}}, {\"mode\": \"vega-lite\"});\n",
       "</script>"
      ],
      "text/plain": [
       "alt.Chart(...)"
      ]
     },
     "execution_count": 33,
     "metadata": {},
     "output_type": "execute_result"
    }
   ],
   "source": [
    "alt.Chart(plants_df_pivot).mark_rect().encode(\n",
    "    y=alt.Y('owner', sort='-x'),\n",
    "    x='rowid count',\n",
    ")"
   ]
  },
  {
   "cell_type": "markdown",
   "id": "2d42d145-b1fc-4fd6-bf58-03bdfe7f41d4",
   "metadata": {},
   "source": [
    "Bonus:\n",
    "\n",
    "To learn more about how to make additional visualizations with Altair:\n",
    "\n",
    "- https://altair-viz.github.io/user_guide/encoding.html\n",
    "- https://altair-viz.github.io/gallery/bar_chart_sorted.html?highlight=sort\n"
   ]
  },
  {
   "cell_type": "code",
   "execution_count": null,
   "id": "39531f73-2449-444b-b53a-fc4048909d35",
   "metadata": {},
   "outputs": [],
   "source": []
  }
 ],
 "metadata": {
  "kernelspec": {
   "display_name": "Python 3 (ipykernel)",
   "language": "python",
   "name": "python3"
  },
  "language_info": {
   "codemirror_mode": {
    "name": "ipython",
    "version": 3
   },
   "file_extension": ".py",
   "mimetype": "text/x-python",
   "name": "python",
   "nbconvert_exporter": "python",
   "pygments_lexer": "ipython3",
   "version": "3.9.10"
  }
 },
 "nbformat": 4,
 "nbformat_minor": 5
}

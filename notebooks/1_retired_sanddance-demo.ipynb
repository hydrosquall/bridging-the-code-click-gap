{
 "cells": [
  {
   "cell_type": "markdown",
   "id": "5e0b12a6-b389-42eb-ac06-6cd76d40cedf",
   "metadata": {},
   "source": [
    "Online demo for this doesn't work right now. In the meantime, you can visit one of these\n",
    "\n",
    "- VSCode Extension https://marketplace.visualstudio.com/items?itemName=msrvida.vscode-sanddance\n",
    "- Online demo app: https://microsoft.github.io/SandDance/app/\n",
    "- Copy this code snippet if you run Jupyter Notebook locally.\n",
    "\n",
    "There's an extra step where you'll have to copy-paste your "
   ]
  },
  {
   "cell_type": "code",
   "execution_count": 7,
   "id": "c2ca2ae9-80e4-431d-81cd-20f3b5a392a1",
   "metadata": {},
   "outputs": [],
   "source": [
    "# Currently, this demo doesn't work on latest jupyterlab (3.4.3). It might work in older versions of Jupyter Notebook.\n",
    "# https://github.com/microsoft/SandDance/issues/361\n",
    "from sanddance import Explorer"
   ]
  },
  {
   "cell_type": "code",
   "execution_count": 9,
   "id": "d4357655-f9f4-4741-b869-fe447c21ca26",
   "metadata": {},
   "outputs": [
    {
     "data": {
      "application/vnd.jupyter.widget-view+json": {
       "model_id": "ba1de21c64bf4f46b57b3aa3446fab70",
       "version_major": 2,
       "version_minor": 0
      },
      "text/plain": [
       "Explorer()"
      ]
     },
     "metadata": {},
     "output_type": "display_data"
    }
   ],
   "source": [
    "# Snippet from official docs: https://github.com/microsoft/SandDance/blob/master/python/jupyter-widget/README.md#getting-started\n",
    "sd = Explorer()\n",
    "sd.show()\n",
    "\n",
    "df = pd.DataFrame([\n",
    "    {'x': 1, 'y': 1, 'text': 'first'},\n",
    "    {'x': 2, 'y': 2, 'text': 'second'},\n",
    "    {'x': 3, 'y': 3, 'text': 'third'},\n",
    "])\n",
    "sd.load(df)"
   ]
  },
  {
   "cell_type": "markdown",
   "id": "f24c57fc-a34b-4d28-8574-7bdabdcf8cee",
   "metadata": {},
   "source": []
  }
 ],
 "metadata": {
  "kernelspec": {
   "display_name": "Python 3 (ipykernel)",
   "language": "python",
   "name": "python3"
  },
  "language_info": {
   "codemirror_mode": {
    "name": "ipython",
    "version": 3
   },
   "file_extension": ".py",
   "mimetype": "text/x-python",
   "name": "python",
   "nbconvert_exporter": "python",
   "pygments_lexer": "ipython3",
   "version": "3.9.10"
  }
 },
 "nbformat": 4,
 "nbformat_minor": 5
}

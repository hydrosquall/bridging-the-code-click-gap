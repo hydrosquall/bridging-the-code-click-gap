{
 "cells": [
  {
   "cell_type": "code",
   "execution_count": 1,
   "metadata": {},
   "outputs": [],
   "source": [
    "# Basic imports\n",
    "import pandas as pd\n",
    "import geopandas as gpd   \n",
    "from keplergl import KeplerGl"
   ]
  },
  {
   "cell_type": "code",
   "execution_count": 2,
   "metadata": {},
   "outputs": [],
   "source": [
    "# Load a dataset\n",
    "plants_url = \"https://global-power-plants.datasettes.com/global-power-plants/global-power-plants.csv?_sort=rowid&country_long__exact=United+States+of+America&primary_fuel=Wind&_size=max\"\n",
    "plants_df = pd.read_csv(plants_url)"
   ]
  },
  {
   "cell_type": "code",
   "execution_count": 3,
   "metadata": {},
   "outputs": [
    {
     "data": {
      "text/html": [
       "<div><div id=665f3403-fc6e-43ca-b4f7-77df50e206db style=\"display:none; background-color:#9D6CFF; color:white; width:200px; height:30px; padding-left:5px; border-radius:4px; flex-direction:row; justify-content:space-around; align-items:center;\" onmouseover=\"this.style.backgroundColor='#BA9BF8'\" onmouseout=\"this.style.backgroundColor='#9D6CFF'\" onclick=\"window.commands?.execute('create-mitosheet-from-dataframe-output');\">See Full Dataframe in Mito</div> <script> if (window.commands?.hasCommand('create-mitosheet-from-dataframe-output')) document.getElementById('665f3403-fc6e-43ca-b4f7-77df50e206db').style.display = 'flex' </script> <table border=\"1\" class=\"dataframe\">\n",
       "  <thead>\n",
       "    <tr style=\"text-align: right;\">\n",
       "      <th></th>\n",
       "      <th>rowid</th>\n",
       "      <th>country</th>\n",
       "      <th>country_long</th>\n",
       "      <th>name</th>\n",
       "      <th>gppd_idnr</th>\n",
       "      <th>capacity_mw</th>\n",
       "      <th>latitude</th>\n",
       "      <th>longitude</th>\n",
       "      <th>primary_fuel</th>\n",
       "      <th>other_fuel1</th>\n",
       "      <th>...</th>\n",
       "      <th>estimated_generation_gwh_2013</th>\n",
       "      <th>estimated_generation_gwh_2014</th>\n",
       "      <th>estimated_generation_gwh_2015</th>\n",
       "      <th>estimated_generation_gwh_2016</th>\n",
       "      <th>estimated_generation_gwh_2017</th>\n",
       "      <th>estimated_generation_note_2013</th>\n",
       "      <th>estimated_generation_note_2014</th>\n",
       "      <th>estimated_generation_note_2015</th>\n",
       "      <th>estimated_generation_note_2016</th>\n",
       "      <th>estimated_generation_note_2017</th>\n",
       "    </tr>\n",
       "  </thead>\n",
       "  <tbody>\n",
       "    <tr>\n",
       "      <th>0</th>\n",
       "      <td>24750</td>\n",
       "      <td>USA</td>\n",
       "      <td>United States of America</td>\n",
       "      <td>85 A</td>\n",
       "      <td>USA0052162</td>\n",
       "      <td>14.1</td>\n",
       "      <td>35.1011</td>\n",
       "      <td>-118.3372</td>\n",
       "      <td>Wind</td>\n",
       "      <td>NaN</td>\n",
       "      <td>...</td>\n",
       "      <td>18.01</td>\n",
       "      <td>17.18</td>\n",
       "      <td>19.54</td>\n",
       "      <td>20.71</td>\n",
       "      <td>22.04</td>\n",
       "      <td>WIND-V1</td>\n",
       "      <td>WIND-V1</td>\n",
       "      <td>WIND-V1</td>\n",
       "      <td>WIND-V1</td>\n",
       "      <td>WIND-V1</td>\n",
       "    </tr>\n",
       "    <tr>\n",
       "      <th>1</th>\n",
       "      <td>24751</td>\n",
       "      <td>USA</td>\n",
       "      <td>United States of America</td>\n",
       "      <td>85 B</td>\n",
       "      <td>USA0052163</td>\n",
       "      <td>21.2</td>\n",
       "      <td>35.1011</td>\n",
       "      <td>-118.3372</td>\n",
       "      <td>Wind</td>\n",
       "      <td>NaN</td>\n",
       "      <td>...</td>\n",
       "      <td>21.49</td>\n",
       "      <td>19.64</td>\n",
       "      <td>22.46</td>\n",
       "      <td>23.40</td>\n",
       "      <td>23.01</td>\n",
       "      <td>WIND-V1</td>\n",
       "      <td>WIND-V1</td>\n",
       "      <td>WIND-V1</td>\n",
       "      <td>WIND-V1</td>\n",
       "      <td>WIND-V1</td>\n",
       "    </tr>\n",
       "    <tr>\n",
       "      <th>2</th>\n",
       "      <td>24838</td>\n",
       "      <td>USA</td>\n",
       "      <td>United States of America</td>\n",
       "      <td>Adair Wind Farm</td>\n",
       "      <td>USA0056810</td>\n",
       "      <td>174.8</td>\n",
       "      <td>41.4236</td>\n",
       "      <td>-94.6650</td>\n",
       "      <td>Wind</td>\n",
       "      <td>NaN</td>\n",
       "      <td>...</td>\n",
       "      <td>596.75</td>\n",
       "      <td>558.58</td>\n",
       "      <td>501.28</td>\n",
       "      <td>520.03</td>\n",
       "      <td>517.28</td>\n",
       "      <td>WIND-V1</td>\n",
       "      <td>WIND-V1</td>\n",
       "      <td>WIND-V1</td>\n",
       "      <td>WIND-V1</td>\n",
       "      <td>WIND-V1</td>\n",
       "    </tr>\n",
       "    <tr>\n",
       "      <th>3</th>\n",
       "      <td>24846</td>\n",
       "      <td>USA</td>\n",
       "      <td>United States of America</td>\n",
       "      <td>Adams Wind</td>\n",
       "      <td>USA0059637</td>\n",
       "      <td>154.3</td>\n",
       "      <td>40.9200</td>\n",
       "      <td>-94.6717</td>\n",
       "      <td>Wind</td>\n",
       "      <td>NaN</td>\n",
       "      <td>...</td>\n",
       "      <td>NaN</td>\n",
       "      <td>NaN</td>\n",
       "      <td>NaN</td>\n",
       "      <td>546.00</td>\n",
       "      <td>536.94</td>\n",
       "      <td>NO-ESTIMATION</td>\n",
       "      <td>NO-ESTIMATION</td>\n",
       "      <td>NO-ESTIMATION</td>\n",
       "      <td>WIND-V1</td>\n",
       "      <td>WIND-V1</td>\n",
       "    </tr>\n",
       "    <tr>\n",
       "      <th>4</th>\n",
       "      <td>24847</td>\n",
       "      <td>USA</td>\n",
       "      <td>United States of America</td>\n",
       "      <td>Adams Wind Farm</td>\n",
       "      <td>USA0056307</td>\n",
       "      <td>23.3</td>\n",
       "      <td>43.5548</td>\n",
       "      <td>-92.7241</td>\n",
       "      <td>Wind</td>\n",
       "      <td>NaN</td>\n",
       "      <td>...</td>\n",
       "      <td>71.49</td>\n",
       "      <td>72.97</td>\n",
       "      <td>74.01</td>\n",
       "      <td>62.55</td>\n",
       "      <td>66.06</td>\n",
       "      <td>WIND-V1</td>\n",
       "      <td>WIND-V1</td>\n",
       "      <td>WIND-V1</td>\n",
       "      <td>WIND-V1</td>\n",
       "      <td>WIND-V1</td>\n",
       "    </tr>\n",
       "  </tbody>\n",
       "</table></div>"
      ],
      "text/plain": [
       "   rowid country              country_long             name   gppd_idnr  \\\n",
       "0  24750     USA  United States of America             85 A  USA0052162   \n",
       "1  24751     USA  United States of America             85 B  USA0052163   \n",
       "2  24838     USA  United States of America  Adair Wind Farm  USA0056810   \n",
       "3  24846     USA  United States of America       Adams Wind  USA0059637   \n",
       "4  24847     USA  United States of America  Adams Wind Farm  USA0056307   \n",
       "\n",
       "   capacity_mw  latitude  longitude primary_fuel other_fuel1  ...  \\\n",
       "0         14.1   35.1011  -118.3372         Wind         NaN  ...   \n",
       "1         21.2   35.1011  -118.3372         Wind         NaN  ...   \n",
       "2        174.8   41.4236   -94.6650         Wind         NaN  ...   \n",
       "3        154.3   40.9200   -94.6717         Wind         NaN  ...   \n",
       "4         23.3   43.5548   -92.7241         Wind         NaN  ...   \n",
       "\n",
       "  estimated_generation_gwh_2013  estimated_generation_gwh_2014  \\\n",
       "0                         18.01                          17.18   \n",
       "1                         21.49                          19.64   \n",
       "2                        596.75                         558.58   \n",
       "3                           NaN                            NaN   \n",
       "4                         71.49                          72.97   \n",
       "\n",
       "   estimated_generation_gwh_2015 estimated_generation_gwh_2016  \\\n",
       "0                          19.54                         20.71   \n",
       "1                          22.46                         23.40   \n",
       "2                         501.28                        520.03   \n",
       "3                            NaN                        546.00   \n",
       "4                          74.01                         62.55   \n",
       "\n",
       "  estimated_generation_gwh_2017 estimated_generation_note_2013  \\\n",
       "0                         22.04                        WIND-V1   \n",
       "1                         23.01                        WIND-V1   \n",
       "2                        517.28                        WIND-V1   \n",
       "3                        536.94                  NO-ESTIMATION   \n",
       "4                         66.06                        WIND-V1   \n",
       "\n",
       "  estimated_generation_note_2014 estimated_generation_note_2015  \\\n",
       "0                        WIND-V1                        WIND-V1   \n",
       "1                        WIND-V1                        WIND-V1   \n",
       "2                        WIND-V1                        WIND-V1   \n",
       "3                  NO-ESTIMATION                  NO-ESTIMATION   \n",
       "4                        WIND-V1                        WIND-V1   \n",
       "\n",
       "   estimated_generation_note_2016  estimated_generation_note_2017  \n",
       "0                         WIND-V1                         WIND-V1  \n",
       "1                         WIND-V1                         WIND-V1  \n",
       "2                         WIND-V1                         WIND-V1  \n",
       "3                         WIND-V1                         WIND-V1  \n",
       "4                         WIND-V1                         WIND-V1  \n",
       "\n",
       "[5 rows x 37 columns]"
      ]
     },
     "execution_count": 3,
     "metadata": {},
     "output_type": "execute_result"
    }
   ],
   "source": [
    "# Basic data check\n",
    "plants_df.head()"
   ]
  },
  {
   "cell_type": "code",
   "execution_count": 4,
   "metadata": {},
   "outputs": [],
   "source": [
    "# Make a dataframe with a geometry column\n",
    "geoDataFrame = gpd.GeoDataFrame(plants_df, geometry=gpd.points_from_xy(plants_df.longitude, plants_df.latitude))"
   ]
  },
  {
   "cell_type": "code",
   "execution_count": 5,
   "metadata": {},
   "outputs": [
    {
     "name": "stdout",
     "output_type": "stream",
     "text": [
      "User Guide: https://docs.kepler.gl/docs/keplergl-jupyter\n"
     ]
    }
   ],
   "source": [
    "# Create a basic map\n",
    "keplerMap = KeplerGl(height=600, width=800)  \n",
    "keplerMap.add_data(data=geoDataFrame, name=\"Windy Power Plants\") "
   ]
  },
  {
   "cell_type": "code",
   "execution_count": 6,
   "metadata": {},
   "outputs": [
    {
     "data": {
      "application/vnd.jupyter.widget-view+json": {
       "model_id": "e98fb76a51b44f91b76302248c2504c6",
       "version_major": 2,
       "version_minor": 0
      },
      "text/plain": [
       "KeplerGl(data={'Windy Power Plants': {'index': [0, 1, 2, 3, 4, 5, 6, 7, 8, 9, 10, 11, 12, 13, 14, 15, 16, 17, …"
      ]
     },
     "metadata": {},
     "output_type": "display_data"
    }
   ],
   "source": [
    "keplerMap"
   ]
  },
  {
   "cell_type": "code",
   "execution_count": null,
   "metadata": {},
   "outputs": [],
   "source": [
    "# Filter demo: commissioning year float\n",
    "# find your top "
   ]
  }
 ],
 "metadata": {
  "kernelspec": {
   "display_name": "Python 3.7.1 64-bit ('jupyter3': venv)",
   "language": "python",
   "name": "python37164bitjupyter3venvb467f83f0de74782bfaecabfaba39166"
  },
  "language_info": {
   "codemirror_mode": {
    "name": "ipython",
    "version": 3
   },
   "file_extension": ".py",
   "mimetype": "text/x-python",
   "name": "python",
   "nbconvert_exporter": "python",
   "pygments_lexer": "ipython3",
   "version": "3.7.1"
  }
 },
 "nbformat": 4,
 "nbformat_minor": 4
}
